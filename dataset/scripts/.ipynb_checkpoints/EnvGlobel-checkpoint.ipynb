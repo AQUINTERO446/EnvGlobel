{
 "cells": [
  {
   "cell_type": "code",
   "execution_count": 0,
   "metadata": {
    "colab": {},
    "colab_type": "code",
    "id": "Ploz2mDg5QYE"
   },
   "outputs": [],
   "source": [
    "# EnvGlobel\n",
    "# Authors: Yhary Arias, Jean Pico, Jesús Angel, Andrés Quintero, Juan Peñaranda, Freyman Balaguera"
   ]
  },
  {
   "cell_type": "code",
   "execution_count": 0,
   "metadata": {
    "colab": {},
    "colab_type": "code",
    "id": "ebI3t1Xi5lIs"
   },
   "outputs": [],
   "source": [
    "import pandas as pd\n",
    "#import numpy as np\n",
    "import copy\n",
    "%matplotlib inline"
   ]
  },
  {
   "cell_type": "code",
   "execution_count": 3,
   "metadata": {
    "colab": {
     "base_uri": "https://localhost:8080/",
     "height": 34
    },
    "colab_type": "code",
    "id": "h2Lw_3xkC0nv",
    "outputId": "b284e5fb-fc0d-4dd5-eb8d-3aad5fed9523"
   },
   "outputs": [
    {
     "name": "stdout",
     "output_type": "stream",
     "text": [
      "Drive already mounted at /content/drive; to attempt to forcibly remount, call drive.mount(\"/content/drive\", force_remount=True).\n"
     ]
    }
   ],
   "source": [
    "from google.colab import drive\n",
    "drive.mount('/content/drive')"
   ]
  },
  {
   "cell_type": "code",
   "execution_count": 4,
   "metadata": {
    "colab": {
     "base_uri": "https://localhost:8080/",
     "height": 197
    },
    "colab_type": "code",
    "id": "UnR0FC-lCv-R",
    "outputId": "23c9b1c0-bcf1-4ee6-e130-c404e7eb43c8"
   },
   "outputs": [
    {
     "data": {
      "text/html": [
       "<div>\n",
       "<style scoped>\n",
       "    .dataframe tbody tr th:only-of-type {\n",
       "        vertical-align: middle;\n",
       "    }\n",
       "\n",
       "    .dataframe tbody tr th {\n",
       "        vertical-align: top;\n",
       "    }\n",
       "\n",
       "    .dataframe thead th {\n",
       "        text-align: right;\n",
       "    }\n",
       "</style>\n",
       "<table border=\"1\" class=\"dataframe\">\n",
       "  <thead>\n",
       "    <tr style=\"text-align: right;\">\n",
       "      <th></th>\n",
       "      <th>Station</th>\n",
       "      <th>Date</th>\n",
       "      <th>Time</th>\n",
       "      <th>O3(ppm)</th>\n",
       "      <th>TEMP(Deg F)</th>\n",
       "      <th>RH(%)</th>\n",
       "      <th>BP(in HG)</th>\n",
       "    </tr>\n",
       "  </thead>\n",
       "  <tbody>\n",
       "    <tr>\n",
       "      <th>0</th>\n",
       "      <td>Dunkirk</td>\n",
       "      <td>5/30/2017</td>\n",
       "      <td>12:00 a. m.</td>\n",
       "      <td>0.039</td>\n",
       "      <td>58.9</td>\n",
       "      <td>80.0</td>\n",
       "      <td>29.26</td>\n",
       "    </tr>\n",
       "    <tr>\n",
       "      <th>1</th>\n",
       "      <td>Dunkirk</td>\n",
       "      <td>5/30/2017</td>\n",
       "      <td>1:00 a. m.</td>\n",
       "      <td>0.044</td>\n",
       "      <td>55.7</td>\n",
       "      <td>88.0</td>\n",
       "      <td>29.28</td>\n",
       "    </tr>\n",
       "    <tr>\n",
       "      <th>2</th>\n",
       "      <td>Dunkirk</td>\n",
       "      <td>5/30/2017</td>\n",
       "      <td>2:00 a. m.</td>\n",
       "      <td>0.044</td>\n",
       "      <td>54.7</td>\n",
       "      <td>93.0</td>\n",
       "      <td>29.27</td>\n",
       "    </tr>\n",
       "    <tr>\n",
       "      <th>3</th>\n",
       "      <td>Dunkirk</td>\n",
       "      <td>5/30/2017</td>\n",
       "      <td>3:00 a. m.</td>\n",
       "      <td>0.037</td>\n",
       "      <td>55.1</td>\n",
       "      <td>94.0</td>\n",
       "      <td>29.27</td>\n",
       "    </tr>\n",
       "    <tr>\n",
       "      <th>4</th>\n",
       "      <td>Dunkirk</td>\n",
       "      <td>5/30/2017</td>\n",
       "      <td>4:00 a. m.</td>\n",
       "      <td>0.032</td>\n",
       "      <td>55.5</td>\n",
       "      <td>93.0</td>\n",
       "      <td>29.28</td>\n",
       "    </tr>\n",
       "  </tbody>\n",
       "</table>\n",
       "</div>"
      ],
      "text/plain": [
       "   Station       Date         Time  O3(ppm)  TEMP(Deg F)  RH(%)  BP(in HG)\n",
       "0  Dunkirk  5/30/2017  12:00 a. m.    0.039         58.9   80.0      29.26\n",
       "1  Dunkirk  5/30/2017   1:00 a. m.    0.044         55.7   88.0      29.28\n",
       "2  Dunkirk  5/30/2017   2:00 a. m.    0.044         54.7   93.0      29.27\n",
       "3  Dunkirk  5/30/2017   3:00 a. m.    0.037         55.1   94.0      29.27\n",
       "4  Dunkirk  5/30/2017   4:00 a. m.    0.032         55.5   93.0      29.28"
      ]
     },
     "execution_count": 4,
     "metadata": {
      "tags": []
     },
     "output_type": "execute_result"
    }
   ],
   "source": [
    "dfStations = pd.read_csv('/content/drive/My Drive/EnvGlobel/dataset_stations_pollution.csv', sep = ';')\n",
    "dfStations.head()"
   ]
  },
  {
   "cell_type": "code",
   "execution_count": 5,
   "metadata": {
    "colab": {
     "base_uri": "https://localhost:8080/",
     "height": 283
    },
    "colab_type": "code",
    "id": "NrThJV-SE-bl",
    "outputId": "cd357bb3-a405-45db-f596-1556152012e1"
   },
   "outputs": [
    {
     "name": "stdout",
     "output_type": "stream",
     "text": [
      "<class 'pandas.core.frame.DataFrame'>\n",
      "RangeIndex: 70088 entries, 0 to 70087\n",
      "Data columns (total 7 columns):\n",
      " #   Column       Non-Null Count  Dtype  \n",
      "---  ------       --------------  -----  \n",
      " 0   Station      70088 non-null  object \n",
      " 1   Date         70088 non-null  object \n",
      " 2   Time         70088 non-null  object \n",
      " 3   O3(ppm)      66566 non-null  float64\n",
      " 4   TEMP(Deg F)  51759 non-null  float64\n",
      " 5   RH(%)        59191 non-null  float64\n",
      " 6   BP(in HG)    53615 non-null  float64\n",
      "dtypes: float64(4), object(3)\n",
      "memory usage: 3.7+ MB\n",
      "None\n"
     ]
    }
   ],
   "source": [
    "print(dfStations.info())"
   ]
  },
  {
   "cell_type": "code",
   "execution_count": 6,
   "metadata": {
    "colab": {
     "base_uri": "https://localhost:8080/",
     "height": 472
    },
    "colab_type": "code",
    "id": "KVK41jfayNwZ",
    "outputId": "a195c2e9-8fce-4be2-9231-3210447d21d9"
   },
   "outputs": [
    {
     "data": {
      "text/plain": [
       "<matplotlib.axes._subplots.AxesSubplot at 0x7f1c7fe23908>"
      ]
     },
     "execution_count": 6,
     "metadata": {
      "tags": []
     },
     "output_type": "execute_result"
    },
    {
     "data": {
      "image/png": "[encoded data removed]",
      "text/plain": [
       "<Figure size 360x432 with 1 Axes>"
      ]
     },
     "metadata": {
      "needs_background": "light",
      "tags": []
     },
     "output_type": "display_data"
    }
   ],
   "source": [
    "# BOXPLOT (relationship between a categorical feature and a continuous feature).\n",
    "\n",
    "dfStations.boxplot('TEMP(Deg F)', 'Station', rot = 30, figsize = (5, 6))"
   ]
  },
  {
   "cell_type": "code",
   "execution_count": 0,
   "metadata": {
    "colab": {},
    "colab_type": "code",
    "id": "cWs0dynd26xJ"
   },
   "outputs": [],
   "source": [
    "dfCopy = dfStations.copy()"
   ]
  },
  {
   "cell_type": "code",
   "execution_count": 0,
   "metadata": {
    "colab": {},
    "colab_type": "code",
    "id": "cnKVQ0jDSRiq"
   },
   "outputs": [],
   "source": [
    "dfCopy['Date'] = pd.to_datetime(dfCopy['Date'],format='%m/%d/%Y')"
   ]
  },
  {
   "cell_type": "code",
   "execution_count": 9,
   "metadata": {
    "colab": {
     "base_uri": "https://localhost:8080/",
     "height": 197
    },
    "colab_type": "code",
    "id": "AzObTMwsTqi4",
    "outputId": "e3a4c196-001b-4548-b461-309b5905312a"
   },
   "outputs": [
    {
     "data": {
      "text/html": [
       "<div>\n",
       "<style scoped>\n",
       "    .dataframe tbody tr th:only-of-type {\n",
       "        vertical-align: middle;\n",
       "    }\n",
       "\n",
       "    .dataframe tbody tr th {\n",
       "        vertical-align: top;\n",
       "    }\n",
       "\n",
       "    .dataframe thead th {\n",
       "        text-align: right;\n",
       "    }\n",
       "</style>\n",
       "<table border=\"1\" class=\"dataframe\">\n",
       "  <thead>\n",
       "    <tr style=\"text-align: right;\">\n",
       "      <th></th>\n",
       "      <th>Station</th>\n",
       "      <th>Date</th>\n",
       "      <th>Time</th>\n",
       "      <th>O3(ppm)</th>\n",
       "      <th>TEMP(Deg F)</th>\n",
       "      <th>RH(%)</th>\n",
       "      <th>BP(in HG)</th>\n",
       "    </tr>\n",
       "  </thead>\n",
       "  <tbody>\n",
       "    <tr>\n",
       "      <th>0</th>\n",
       "      <td>Dunkirk</td>\n",
       "      <td>2017-05-30</td>\n",
       "      <td>12:00 a. m.</td>\n",
       "      <td>0.039</td>\n",
       "      <td>58.9</td>\n",
       "      <td>80.0</td>\n",
       "      <td>29.26</td>\n",
       "    </tr>\n",
       "    <tr>\n",
       "      <th>1</th>\n",
       "      <td>Dunkirk</td>\n",
       "      <td>2017-05-30</td>\n",
       "      <td>1:00 a. m.</td>\n",
       "      <td>0.044</td>\n",
       "      <td>55.7</td>\n",
       "      <td>88.0</td>\n",
       "      <td>29.28</td>\n",
       "    </tr>\n",
       "    <tr>\n",
       "      <th>2</th>\n",
       "      <td>Dunkirk</td>\n",
       "      <td>2017-05-30</td>\n",
       "      <td>2:00 a. m.</td>\n",
       "      <td>0.044</td>\n",
       "      <td>54.7</td>\n",
       "      <td>93.0</td>\n",
       "      <td>29.27</td>\n",
       "    </tr>\n",
       "    <tr>\n",
       "      <th>3</th>\n",
       "      <td>Dunkirk</td>\n",
       "      <td>2017-05-30</td>\n",
       "      <td>3:00 a. m.</td>\n",
       "      <td>0.037</td>\n",
       "      <td>55.1</td>\n",
       "      <td>94.0</td>\n",
       "      <td>29.27</td>\n",
       "    </tr>\n",
       "    <tr>\n",
       "      <th>4</th>\n",
       "      <td>Dunkirk</td>\n",
       "      <td>2017-05-30</td>\n",
       "      <td>4:00 a. m.</td>\n",
       "      <td>0.032</td>\n",
       "      <td>55.5</td>\n",
       "      <td>93.0</td>\n",
       "      <td>29.28</td>\n",
       "    </tr>\n",
       "  </tbody>\n",
       "</table>\n",
       "</div>"
      ],
      "text/plain": [
       "   Station       Date         Time  O3(ppm)  TEMP(Deg F)  RH(%)  BP(in HG)\n",
       "0  Dunkirk 2017-05-30  12:00 a. m.    0.039         58.9   80.0      29.26\n",
       "1  Dunkirk 2017-05-30   1:00 a. m.    0.044         55.7   88.0      29.28\n",
       "2  Dunkirk 2017-05-30   2:00 a. m.    0.044         54.7   93.0      29.27\n",
       "3  Dunkirk 2017-05-30   3:00 a. m.    0.037         55.1   94.0      29.27\n",
       "4  Dunkirk 2017-05-30   4:00 a. m.    0.032         55.5   93.0      29.28"
      ]
     },
     "execution_count": 9,
     "metadata": {
      "tags": []
     },
     "output_type": "execute_result"
    }
   ],
   "source": [
    "dfCopy.head()"
   ]
  },
  {
   "cell_type": "code",
   "execution_count": 0,
   "metadata": {
    "colab": {},
    "colab_type": "code",
    "id": "a-Nq4pcTVLNV"
   },
   "outputs": [],
   "source": [
    "dfCopy['Time'] = dfCopy['Time'].astype(str).str.upper().str.replace('.','')"
   ]
  },
  {
   "cell_type": "code",
   "execution_count": 11,
   "metadata": {
    "colab": {
     "base_uri": "https://localhost:8080/",
     "height": 197
    },
    "colab_type": "code",
    "id": "TeFwgjQef2H4",
    "outputId": "4d167d8b-d315-4ee9-e45e-cc8710ab42be"
   },
   "outputs": [
    {
     "data": {
      "text/html": [
       "<div>\n",
       "<style scoped>\n",
       "    .dataframe tbody tr th:only-of-type {\n",
       "        vertical-align: middle;\n",
       "    }\n",
       "\n",
       "    .dataframe tbody tr th {\n",
       "        vertical-align: top;\n",
       "    }\n",
       "\n",
       "    .dataframe thead th {\n",
       "        text-align: right;\n",
       "    }\n",
       "</style>\n",
       "<table border=\"1\" class=\"dataframe\">\n",
       "  <thead>\n",
       "    <tr style=\"text-align: right;\">\n",
       "      <th></th>\n",
       "      <th>Station</th>\n",
       "      <th>Date</th>\n",
       "      <th>Time</th>\n",
       "      <th>O3(ppm)</th>\n",
       "      <th>TEMP(Deg F)</th>\n",
       "      <th>RH(%)</th>\n",
       "      <th>BP(in HG)</th>\n",
       "    </tr>\n",
       "  </thead>\n",
       "  <tbody>\n",
       "    <tr>\n",
       "      <th>0</th>\n",
       "      <td>Dunkirk</td>\n",
       "      <td>2017-05-30</td>\n",
       "      <td>12:00 A M</td>\n",
       "      <td>0.039</td>\n",
       "      <td>58.9</td>\n",
       "      <td>80.0</td>\n",
       "      <td>29.26</td>\n",
       "    </tr>\n",
       "    <tr>\n",
       "      <th>1</th>\n",
       "      <td>Dunkirk</td>\n",
       "      <td>2017-05-30</td>\n",
       "      <td>1:00 A M</td>\n",
       "      <td>0.044</td>\n",
       "      <td>55.7</td>\n",
       "      <td>88.0</td>\n",
       "      <td>29.28</td>\n",
       "    </tr>\n",
       "    <tr>\n",
       "      <th>2</th>\n",
       "      <td>Dunkirk</td>\n",
       "      <td>2017-05-30</td>\n",
       "      <td>2:00 A M</td>\n",
       "      <td>0.044</td>\n",
       "      <td>54.7</td>\n",
       "      <td>93.0</td>\n",
       "      <td>29.27</td>\n",
       "    </tr>\n",
       "    <tr>\n",
       "      <th>3</th>\n",
       "      <td>Dunkirk</td>\n",
       "      <td>2017-05-30</td>\n",
       "      <td>3:00 A M</td>\n",
       "      <td>0.037</td>\n",
       "      <td>55.1</td>\n",
       "      <td>94.0</td>\n",
       "      <td>29.27</td>\n",
       "    </tr>\n",
       "    <tr>\n",
       "      <th>4</th>\n",
       "      <td>Dunkirk</td>\n",
       "      <td>2017-05-30</td>\n",
       "      <td>4:00 A M</td>\n",
       "      <td>0.032</td>\n",
       "      <td>55.5</td>\n",
       "      <td>93.0</td>\n",
       "      <td>29.28</td>\n",
       "    </tr>\n",
       "  </tbody>\n",
       "</table>\n",
       "</div>"
      ],
      "text/plain": [
       "   Station       Date       Time  O3(ppm)  TEMP(Deg F)  RH(%)  BP(in HG)\n",
       "0  Dunkirk 2017-05-30  12:00 A M    0.039         58.9   80.0      29.26\n",
       "1  Dunkirk 2017-05-30   1:00 A M    0.044         55.7   88.0      29.28\n",
       "2  Dunkirk 2017-05-30   2:00 A M    0.044         54.7   93.0      29.27\n",
       "3  Dunkirk 2017-05-30   3:00 A M    0.037         55.1   94.0      29.27\n",
       "4  Dunkirk 2017-05-30   4:00 A M    0.032         55.5   93.0      29.28"
      ]
     },
     "execution_count": 11,
     "metadata": {
      "tags": []
     },
     "output_type": "execute_result"
    }
   ],
   "source": [
    "dfCopy.head()"
   ]
  },
  {
   "cell_type": "code",
   "execution_count": 12,
   "metadata": {
    "colab": {
     "base_uri": "https://localhost:8080/",
     "height": 72
    },
    "colab_type": "code",
    "id": "Rg0qpmETf4jF",
    "outputId": "4d8f4b43-19f4-4d3f-a302-2efc9dcfe05f"
   },
   "outputs": [
    {
     "name": "stderr",
     "output_type": "stream",
     "text": [
      "/usr/local/lib/python3.6/dist-packages/dateutil/parser/_parser.py:1218: UnknownTimezoneWarning: tzname M identified but not understood.  Pass `tzinfos` argument in order to correctly return a timezone-aware datetime.  In a future version, this will raise an exception.\n",
      "  category=UnknownTimezoneWarning)\n"
     ]
    }
   ],
   "source": [
    "dfCopy['Time'] = pd.to_datetime(dfCopy['Time']).dt.strftime('%H:%M:%S')"
   ]
  },
  {
   "cell_type": "code",
   "execution_count": 13,
   "metadata": {
    "colab": {
     "base_uri": "https://localhost:8080/",
     "height": 197
    },
    "colab_type": "code",
    "id": "B7a4t5YRhvkv",
    "outputId": "dff9615e-b389-4c24-e1e0-1f3e0bee5074"
   },
   "outputs": [
    {
     "data": {
      "text/html": [
       "<div>\n",
       "<style scoped>\n",
       "    .dataframe tbody tr th:only-of-type {\n",
       "        vertical-align: middle;\n",
       "    }\n",
       "\n",
       "    .dataframe tbody tr th {\n",
       "        vertical-align: top;\n",
       "    }\n",
       "\n",
       "    .dataframe thead th {\n",
       "        text-align: right;\n",
       "    }\n",
       "</style>\n",
       "<table border=\"1\" class=\"dataframe\">\n",
       "  <thead>\n",
       "    <tr style=\"text-align: right;\">\n",
       "      <th></th>\n",
       "      <th>Station</th>\n",
       "      <th>Date</th>\n",
       "      <th>Time</th>\n",
       "      <th>O3(ppm)</th>\n",
       "      <th>TEMP(Deg F)</th>\n",
       "      <th>RH(%)</th>\n",
       "      <th>BP(in HG)</th>\n",
       "    </tr>\n",
       "  </thead>\n",
       "  <tbody>\n",
       "    <tr>\n",
       "      <th>0</th>\n",
       "      <td>Dunkirk</td>\n",
       "      <td>2017-05-30</td>\n",
       "      <td>00:00:00</td>\n",
       "      <td>0.039</td>\n",
       "      <td>58.9</td>\n",
       "      <td>80.0</td>\n",
       "      <td>29.26</td>\n",
       "    </tr>\n",
       "    <tr>\n",
       "      <th>1</th>\n",
       "      <td>Dunkirk</td>\n",
       "      <td>2017-05-30</td>\n",
       "      <td>01:00:00</td>\n",
       "      <td>0.044</td>\n",
       "      <td>55.7</td>\n",
       "      <td>88.0</td>\n",
       "      <td>29.28</td>\n",
       "    </tr>\n",
       "    <tr>\n",
       "      <th>2</th>\n",
       "      <td>Dunkirk</td>\n",
       "      <td>2017-05-30</td>\n",
       "      <td>02:00:00</td>\n",
       "      <td>0.044</td>\n",
       "      <td>54.7</td>\n",
       "      <td>93.0</td>\n",
       "      <td>29.27</td>\n",
       "    </tr>\n",
       "    <tr>\n",
       "      <th>3</th>\n",
       "      <td>Dunkirk</td>\n",
       "      <td>2017-05-30</td>\n",
       "      <td>03:00:00</td>\n",
       "      <td>0.037</td>\n",
       "      <td>55.1</td>\n",
       "      <td>94.0</td>\n",
       "      <td>29.27</td>\n",
       "    </tr>\n",
       "    <tr>\n",
       "      <th>4</th>\n",
       "      <td>Dunkirk</td>\n",
       "      <td>2017-05-30</td>\n",
       "      <td>04:00:00</td>\n",
       "      <td>0.032</td>\n",
       "      <td>55.5</td>\n",
       "      <td>93.0</td>\n",
       "      <td>29.28</td>\n",
       "    </tr>\n",
       "  </tbody>\n",
       "</table>\n",
       "</div>"
      ],
      "text/plain": [
       "   Station       Date      Time  O3(ppm)  TEMP(Deg F)  RH(%)  BP(in HG)\n",
       "0  Dunkirk 2017-05-30  00:00:00    0.039         58.9   80.0      29.26\n",
       "1  Dunkirk 2017-05-30  01:00:00    0.044         55.7   88.0      29.28\n",
       "2  Dunkirk 2017-05-30  02:00:00    0.044         54.7   93.0      29.27\n",
       "3  Dunkirk 2017-05-30  03:00:00    0.037         55.1   94.0      29.27\n",
       "4  Dunkirk 2017-05-30  04:00:00    0.032         55.5   93.0      29.28"
      ]
     },
     "execution_count": 13,
     "metadata": {
      "tags": []
     },
     "output_type": "execute_result"
    }
   ],
   "source": [
    "dfCopy.head()"
   ]
  },
  {
   "cell_type": "code",
   "execution_count": 0,
   "metadata": {
    "colab": {},
    "colab_type": "code",
    "id": "O-gBiyiVnWY-"
   },
   "outputs": [],
   "source": [
    "dfCopy['Datetime'] = pd.to_datetime(dfCopy['Date'].astype(str) + ' ' + dfCopy['Time'].astype(str))"
   ]
  },
  {
   "cell_type": "code",
   "execution_count": 15,
   "metadata": {
    "colab": {
     "base_uri": "https://localhost:8080/",
     "height": 197
    },
    "colab_type": "code",
    "id": "EjcWtkopoAhu",
    "outputId": "fd509ab3-83b3-42b6-b640-d12a623c2da9"
   },
   "outputs": [
    {
     "data": {
      "text/html": [
       "<div>\n",
       "<style scoped>\n",
       "    .dataframe tbody tr th:only-of-type {\n",
       "        vertical-align: middle;\n",
       "    }\n",
       "\n",
       "    .dataframe tbody tr th {\n",
       "        vertical-align: top;\n",
       "    }\n",
       "\n",
       "    .dataframe thead th {\n",
       "        text-align: right;\n",
       "    }\n",
       "</style>\n",
       "<table border=\"1\" class=\"dataframe\">\n",
       "  <thead>\n",
       "    <tr style=\"text-align: right;\">\n",
       "      <th></th>\n",
       "      <th>Station</th>\n",
       "      <th>Date</th>\n",
       "      <th>Time</th>\n",
       "      <th>O3(ppm)</th>\n",
       "      <th>TEMP(Deg F)</th>\n",
       "      <th>RH(%)</th>\n",
       "      <th>BP(in HG)</th>\n",
       "      <th>Datetime</th>\n",
       "    </tr>\n",
       "  </thead>\n",
       "  <tbody>\n",
       "    <tr>\n",
       "      <th>0</th>\n",
       "      <td>Dunkirk</td>\n",
       "      <td>2017-05-30</td>\n",
       "      <td>00:00:00</td>\n",
       "      <td>0.039</td>\n",
       "      <td>58.9</td>\n",
       "      <td>80.0</td>\n",
       "      <td>29.26</td>\n",
       "      <td>2017-05-30 00:00:00</td>\n",
       "    </tr>\n",
       "    <tr>\n",
       "      <th>1</th>\n",
       "      <td>Dunkirk</td>\n",
       "      <td>2017-05-30</td>\n",
       "      <td>01:00:00</td>\n",
       "      <td>0.044</td>\n",
       "      <td>55.7</td>\n",
       "      <td>88.0</td>\n",
       "      <td>29.28</td>\n",
       "      <td>2017-05-30 01:00:00</td>\n",
       "    </tr>\n",
       "    <tr>\n",
       "      <th>2</th>\n",
       "      <td>Dunkirk</td>\n",
       "      <td>2017-05-30</td>\n",
       "      <td>02:00:00</td>\n",
       "      <td>0.044</td>\n",
       "      <td>54.7</td>\n",
       "      <td>93.0</td>\n",
       "      <td>29.27</td>\n",
       "      <td>2017-05-30 02:00:00</td>\n",
       "    </tr>\n",
       "    <tr>\n",
       "      <th>3</th>\n",
       "      <td>Dunkirk</td>\n",
       "      <td>2017-05-30</td>\n",
       "      <td>03:00:00</td>\n",
       "      <td>0.037</td>\n",
       "      <td>55.1</td>\n",
       "      <td>94.0</td>\n",
       "      <td>29.27</td>\n",
       "      <td>2017-05-30 03:00:00</td>\n",
       "    </tr>\n",
       "    <tr>\n",
       "      <th>4</th>\n",
       "      <td>Dunkirk</td>\n",
       "      <td>2017-05-30</td>\n",
       "      <td>04:00:00</td>\n",
       "      <td>0.032</td>\n",
       "      <td>55.5</td>\n",
       "      <td>93.0</td>\n",
       "      <td>29.28</td>\n",
       "      <td>2017-05-30 04:00:00</td>\n",
       "    </tr>\n",
       "  </tbody>\n",
       "</table>\n",
       "</div>"
      ],
      "text/plain": [
       "   Station       Date      Time  ...  RH(%)  BP(in HG)            Datetime\n",
       "0  Dunkirk 2017-05-30  00:00:00  ...   80.0      29.26 2017-05-30 00:00:00\n",
       "1  Dunkirk 2017-05-30  01:00:00  ...   88.0      29.28 2017-05-30 01:00:00\n",
       "2  Dunkirk 2017-05-30  02:00:00  ...   93.0      29.27 2017-05-30 02:00:00\n",
       "3  Dunkirk 2017-05-30  03:00:00  ...   94.0      29.27 2017-05-30 03:00:00\n",
       "4  Dunkirk 2017-05-30  04:00:00  ...   93.0      29.28 2017-05-30 04:00:00\n",
       "\n",
       "[5 rows x 8 columns]"
      ]
     },
     "execution_count": 15,
     "metadata": {
      "tags": []
     },
     "output_type": "execute_result"
    }
   ],
   "source": [
    "dfCopy.head()"
   ]
  },
  {
   "cell_type": "code",
   "execution_count": 0,
   "metadata": {
    "colab": {},
    "colab_type": "code",
    "id": "AHh1PZSxnyR9"
   },
   "outputs": [],
   "source": [
    "dfCopy.to_csv('/content/drive/My Drive/EnvGlobel/dataset_stations_pollution_formated.csv')"
   ]
  }
 ],
 "metadata": {
  "colab": {
   "name": "EnvGlobel.ipynb",
   "provenance": []
  },
  "kernelspec": {
   "display_name": "Python 3",
   "language": "python",
   "name": "python3"
  },
  "language_info": {
   "codemirror_mode": {
    "name": "ipython",
    "version": 3
   },
   "file_extension": ".py",
   "mimetype": "text/x-python",
   "name": "python",
   "nbconvert_exporter": "python",
   "pygments_lexer": "ipython3",
   "version": "3.7.4"
  }
 },
 "nbformat": 4,
 "nbformat_minor": 1
}
